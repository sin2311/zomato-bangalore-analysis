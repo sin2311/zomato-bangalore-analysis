{
 "cells": [
  {
   "cell_type": "code",
   "execution_count": 11,
   "id": "ee0bb7c8",
   "metadata": {},
   "outputs": [],
   "source": [
    "from folium.plugins import HeatMap\n",
    "import folium\n"
   ]
  },
  {
   "cell_type": "code",
   "execution_count": 3,
   "id": "176bf946",
   "metadata": {},
   "outputs": [],
   "source": [
    "import pandas as pd\n",
    "\n",
    "# Load the datasets\n",
    "zomato_df = pd.read_csv(r\"C:\\Users\\ssindhu\\Downloads\\zomato_data.csv\")\n",
    "geo_df = pd.read_csv(r\"C:\\Users\\ssindhu\\Downloads\\Geographical Coordinates.csv\")"
   ]
  },
  {
   "cell_type": "code",
   "execution_count": 4,
   "id": "f5cfb133",
   "metadata": {},
   "outputs": [],
   "source": [
    "# Merge the datasets based on 'listed_incity'\n",
    "merged_df = pd.merge(zomato_df, geo_df, on='listed_incity', how='left')"
   ]
  },
  {
   "cell_type": "code",
   "execution_count": 5,
   "id": "17c3c145",
   "metadata": {},
   "outputs": [],
   "source": [
    "# Extract the coordinates of restaurant locations\n",
    "restaurant_coords = merged_df[['Latitude', 'Longitude']]"
   ]
  },
  {
   "cell_type": "code",
   "execution_count": 6,
   "id": "35a85adf",
   "metadata": {},
   "outputs": [
    {
     "name": "stdout",
     "output_type": "stream",
     "text": [
      "    Latitude  Longitude\n",
      "0  12.939333  77.553982\n",
      "1  12.939333  77.553982\n",
      "2  12.939333  77.553982\n",
      "3  12.939333  77.553982\n",
      "4  12.939333  77.553982\n"
     ]
    }
   ],
   "source": [
    "# Check the first few rows to verify\n",
    "print(restaurant_coords.head())"
   ]
  },
  {
   "cell_type": "code",
   "execution_count": 7,
   "id": "216273e6",
   "metadata": {},
   "outputs": [],
   "source": [
    "# Extract the coordinates of restaurant locations\n",
    "restaurant_coords = merged_df[['Latitude', 'Longitude']]"
   ]
  },
  {
   "cell_type": "code",
   "execution_count": 15,
   "id": "da28f135",
   "metadata": {},
   "outputs": [],
   "source": [
    "# Create the base map for density\n",
    "density_map = folium.Map(location=[12.9716, 77.5946], zoom_start=12)"
   ]
  },
  {
   "cell_type": "code",
   "execution_count": 17,
   "id": "41d38723",
   "metadata": {},
   "outputs": [],
   "source": [
    "# Remove rows with NaN values in 'Latitude' or 'Longitude'\n",
    "restaurant_coords_clean = restaurant_coords.dropna(subset=['Latitude', 'Longitude'])\n"
   ]
  },
  {
   "cell_type": "code",
   "execution_count": 18,
   "id": "65d88e4c",
   "metadata": {},
   "outputs": [
    {
     "data": {
      "text/plain": [
       "<folium.plugins.heat_map.HeatMap at 0x254f148ee50>"
      ]
     },
     "execution_count": 18,
     "metadata": {},
     "output_type": "execute_result"
    }
   ],
   "source": [
    "# Add heatmap layer with cleaned coordinates\n",
    "from folium.plugins import HeatMap\n",
    "HeatMap(restaurant_coords_clean[['Latitude', 'Longitude']].values).add_to(density_map)"
   ]
  },
  {
   "cell_type": "code",
   "execution_count": 19,
   "id": "c1056518",
   "metadata": {},
   "outputs": [],
   "source": [
    "# Save or display the density map\n",
    "density_map.save(\"restaurant_density_map.html\")"
   ]
  }
 ],
 "metadata": {
  "kernelspec": {
   "display_name": "Python 3 (ipykernel)",
   "language": "python",
   "name": "python3"
  },
  "language_info": {
   "codemirror_mode": {
    "name": "ipython",
    "version": 3
   },
   "file_extension": ".py",
   "mimetype": "text/x-python",
   "name": "python",
   "nbconvert_exporter": "python",
   "pygments_lexer": "ipython3",
   "version": "3.11.3"
  }
 },
 "nbformat": 4,
 "nbformat_minor": 5
}
