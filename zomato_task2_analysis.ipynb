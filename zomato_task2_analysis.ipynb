{
 "cells": [
  {
   "cell_type": "code",
   "execution_count": 4,
   "id": "370dc94c",
   "metadata": {},
   "outputs": [],
   "source": [
    "import folium\n",
    "import pandas as pd"
   ]
  },
  {
   "cell_type": "code",
   "execution_count": 6,
   "id": "90c2576d",
   "metadata": {},
   "outputs": [],
   "source": [
    "# Load the datasets into DataFrames\n",
    "zomato_df = pd.read_csv(r\"C:\\Users\\ssindhu\\Downloads\\zomato_data.csv\")\n",
    "geo_df = pd.read_csv(r\"C:\\Users\\ssindhu\\Downloads\\Geographical Coordinates.csv\")"
   ]
  },
  {
   "cell_type": "code",
   "execution_count": 7,
   "id": "8c7d7515",
   "metadata": {},
   "outputs": [],
   "source": [
    "# Merge the datasets on 'listed_incity'\n",
    "merged_df = pd.merge(zomato_df, geo_df, on='listed_incity', how='left')"
   ]
  },
  {
   "cell_type": "code",
   "execution_count": 8,
   "id": "377889ff",
   "metadata": {},
   "outputs": [
    {
     "name": "stdout",
     "output_type": "stream",
     "text": [
      "  online_order book_table   rate  votes            rest_type  \\\n",
      "0          Yes        Yes  4.1/5    775        Casual Dining   \n",
      "1          Yes         No  4.1/5    787        Casual Dining   \n",
      "2          Yes         No  3.8/5    918  Cafe, Casual Dining   \n",
      "3           No         No  3.7/5     88          Quick Bites   \n",
      "4           No         No  3.8/5    166        Casual Dining   \n",
      "\n",
      "                                          dish_liked  \\\n",
      "0  Pasta, Lunch Buffet, Masala Papad, Paneer Laja...   \n",
      "1  Momos, Lunch Buffet, Chocolate Nirvana, Thai G...   \n",
      "2  Churros, Cannelloni, Minestrone Soup, Hot Choc...   \n",
      "3                                        Masala Dosa   \n",
      "4                                Panipuri, Gol Gappe   \n",
      "\n",
      "                         cuisines approx_costfor_two_people listed_intype  \\\n",
      "0  North Indian, Mughlai, Chinese                       800        Buffet   \n",
      "1     Chinese, North Indian, Thai                       800        Buffet   \n",
      "2          Cafe, Mexican, Italian                       800        Buffet   \n",
      "3      South Indian, North Indian                       300        Buffet   \n",
      "4        North Indian, Rajasthani                       600        Buffet   \n",
      "\n",
      "  listed_incity   Latitude  Longitude  \n",
      "0  Banashankari  12.939333  77.553982  \n",
      "1  Banashankari  12.939333  77.553982  \n",
      "2  Banashankari  12.939333  77.553982  \n",
      "3  Banashankari  12.939333  77.553982  \n",
      "4  Banashankari  12.939333  77.553982  \n"
     ]
    }
   ],
   "source": [
    "# Check the result\n",
    "print(merged_df.head())"
   ]
  },
  {
   "cell_type": "code",
   "execution_count": 13,
   "id": "ced31545",
   "metadata": {},
   "outputs": [
    {
     "name": "stdout",
     "output_type": "stream",
     "text": [
      "Index(['online_order', 'book_table', 'rate', 'votes', 'rest_type',\n",
      "       'dish_liked', 'cuisines', 'approx_costfor_two_people', 'listed_intype',\n",
      "       'listed_incity', 'Latitude', 'Longitude'],\n",
      "      dtype='object')\n"
     ]
    }
   ],
   "source": [
    "print(italian_restaurants.columns)\n"
   ]
  },
  {
   "cell_type": "code",
   "execution_count": 14,
   "id": "b4860842",
   "metadata": {},
   "outputs": [],
   "source": [
    "# Filter Italian restaurants\n",
    "italian_restaurants = merged_df[merged_df['cuisines'].str.contains('Italian', na=False)]"
   ]
  },
  {
   "cell_type": "code",
   "execution_count": 15,
   "id": "59059f87",
   "metadata": {},
   "outputs": [
    {
     "data": {
      "text/html": [
       "<div style=\"width:100%;\"><div style=\"position:relative;width:100%;height:0;padding-bottom:60%;\"><span style=\"color:#565656\">Make this Notebook Trusted to load map: File -> Trust Notebook</span><iframe srcdoc=\"&lt;!DOCTYPE html&gt;\n",
       "&lt;html&gt;\n",
       "&lt;head&gt;\n",
       "    \n",
       "    &lt;meta http-equiv=&quot;content-type&quot; content=&quot;text/html; charset=UTF-8&quot; /&gt;\n",
       "    \n",
       "        &lt;script&gt;\n",
       "            L_NO_TOUCH = false;\n",
       "            L_DISABLE_3D = false;\n",
       "        &lt;/script&gt;\n",
       "    \n",
       "    &lt;style&gt;html, body {width: 100%;height: 100%;margin: 0;padding: 0;}&lt;/style&gt;\n",
       "    &lt;style&gt;#map {position:absolute;top:0;bottom:0;right:0;left:0;}&lt;/style&gt;\n",
       "    &lt;script src=&quot;https://cdn.jsdelivr.net/npm/leaflet@1.9.3/dist/leaflet.js&quot;&gt;&lt;/script&gt;\n",
       "    &lt;script src=&quot;https://code.jquery.com/jquery-3.7.1.min.js&quot;&gt;&lt;/script&gt;\n",
       "    &lt;script src=&quot;https://cdn.jsdelivr.net/npm/bootstrap@5.2.2/dist/js/bootstrap.bundle.min.js&quot;&gt;&lt;/script&gt;\n",
       "    &lt;script src=&quot;https://cdnjs.cloudflare.com/ajax/libs/Leaflet.awesome-markers/2.0.2/leaflet.awesome-markers.js&quot;&gt;&lt;/script&gt;\n",
       "    &lt;link rel=&quot;stylesheet&quot; href=&quot;https://cdn.jsdelivr.net/npm/leaflet@1.9.3/dist/leaflet.css&quot;/&gt;\n",
       "    &lt;link rel=&quot;stylesheet&quot; href=&quot;https://cdn.jsdelivr.net/npm/bootstrap@5.2.2/dist/css/bootstrap.min.css&quot;/&gt;\n",
       "    &lt;link rel=&quot;stylesheet&quot; href=&quot;https://netdna.bootstrapcdn.com/bootstrap/3.0.0/css/bootstrap-glyphicons.css&quot;/&gt;\n",
       "    &lt;link rel=&quot;stylesheet&quot; href=&quot;https://cdn.jsdelivr.net/npm/@fortawesome/fontawesome-free@6.2.0/css/all.min.css&quot;/&gt;\n",
       "    &lt;link rel=&quot;stylesheet&quot; href=&quot;https://cdnjs.cloudflare.com/ajax/libs/Leaflet.awesome-markers/2.0.2/leaflet.awesome-markers.css&quot;/&gt;\n",
       "    &lt;link rel=&quot;stylesheet&quot; href=&quot;https://cdn.jsdelivr.net/gh/python-visualization/folium/folium/templates/leaflet.awesome.rotate.min.css&quot;/&gt;\n",
       "    \n",
       "            &lt;meta name=&quot;viewport&quot; content=&quot;width=device-width,\n",
       "                initial-scale=1.0, maximum-scale=1.0, user-scalable=no&quot; /&gt;\n",
       "            &lt;style&gt;\n",
       "                #map_1e13a68d470deacc57f35441b696324f {\n",
       "                    position: relative;\n",
       "                    width: 100.0%;\n",
       "                    height: 100.0%;\n",
       "                    left: 0.0%;\n",
       "                    top: 0.0%;\n",
       "                }\n",
       "                .leaflet-container { font-size: 1rem; }\n",
       "            &lt;/style&gt;\n",
       "        \n",
       "&lt;/head&gt;\n",
       "&lt;body&gt;\n",
       "    \n",
       "    \n",
       "            &lt;div class=&quot;folium-map&quot; id=&quot;map_1e13a68d470deacc57f35441b696324f&quot; &gt;&lt;/div&gt;\n",
       "        \n",
       "&lt;/body&gt;\n",
       "&lt;script&gt;\n",
       "    \n",
       "    \n",
       "            var map_1e13a68d470deacc57f35441b696324f = L.map(\n",
       "                &quot;map_1e13a68d470deacc57f35441b696324f&quot;,\n",
       "                {\n",
       "                    center: [12.9716, 77.5946],\n",
       "                    crs: L.CRS.EPSG3857,\n",
       "                    ...{\n",
       "  &quot;zoom&quot;: 12,\n",
       "  &quot;zoomControl&quot;: true,\n",
       "  &quot;preferCanvas&quot;: false,\n",
       "}\n",
       "\n",
       "                }\n",
       "            );\n",
       "\n",
       "            \n",
       "\n",
       "        \n",
       "    \n",
       "            var tile_layer_449f58efbddcfa41412288090b11abf5 = L.tileLayer(\n",
       "                &quot;https://tile.openstreetmap.org/{z}/{x}/{y}.png&quot;,\n",
       "                {\n",
       "  &quot;minZoom&quot;: 0,\n",
       "  &quot;maxZoom&quot;: 19,\n",
       "  &quot;maxNativeZoom&quot;: 19,\n",
       "  &quot;noWrap&quot;: false,\n",
       "  &quot;attribution&quot;: &quot;\\u0026copy; \\u003ca href=\\&quot;https://www.openstreetmap.org/copyright\\&quot;\\u003eOpenStreetMap\\u003c/a\\u003e contributors&quot;,\n",
       "  &quot;subdomains&quot;: &quot;abc&quot;,\n",
       "  &quot;detectRetina&quot;: false,\n",
       "  &quot;tms&quot;: false,\n",
       "  &quot;opacity&quot;: 1,\n",
       "}\n",
       "\n",
       "            );\n",
       "        \n",
       "    \n",
       "            tile_layer_449f58efbddcfa41412288090b11abf5.addTo(map_1e13a68d470deacc57f35441b696324f);\n",
       "        \n",
       "&lt;/script&gt;\n",
       "&lt;/html&gt;\" style=\"position:absolute;width:100%;height:100%;left:0;top:0;border:none !important;\" allowfullscreen webkitallowfullscreen mozallowfullscreen></iframe></div></div>"
      ],
      "text/plain": [
       "<folium.folium.Map at 0x1c14daad6d0>"
      ]
     },
     "execution_count": 15,
     "metadata": {},
     "output_type": "execute_result"
    }
   ],
   "source": [
    "# Create a base map centered around Bangalore\n",
    "bangalore_map = folium.Map(location=[12.9716, 77.5946], zoom_start=12)\n",
    "bangalore_map"
   ]
  },
  {
   "cell_type": "code",
   "execution_count": 17,
   "id": "65a6d3ea",
   "metadata": {},
   "outputs": [],
   "source": [
    "# Filter out rows with missing Latitude or Longitude\n",
    "italian_restaurants = italian_restaurants.dropna(subset=['Latitude', 'Longitude'])\n",
    "\n",
    "# Add markers for Italian restaurants\n",
    "for _, row in italian_restaurants.iterrows():\n",
    "    folium.Marker([row['Latitude'], row['Longitude']], popup=f\"Cuisine: {row['cuisines']}\").add_to(bangalore_map)\n"
   ]
  },
  {
   "cell_type": "code",
   "execution_count": 18,
   "id": "340fdcd3",
   "metadata": {},
   "outputs": [],
   "source": [
    "# Save or display the map\n",
    "bangalore_map.save(\"italian_restaurants_map.html\")"
   ]
  }
 ],
 "metadata": {
  "kernelspec": {
   "display_name": "Python 3 (ipykernel)",
   "language": "python",
   "name": "python3"
  },
  "language_info": {
   "codemirror_mode": {
    "name": "ipython",
    "version": 3
   },
   "file_extension": ".py",
   "mimetype": "text/x-python",
   "name": "python",
   "nbconvert_exporter": "python",
   "pygments_lexer": "ipython3",
   "version": "3.11.3"
  }
 },
 "nbformat": 4,
 "nbformat_minor": 5
}
